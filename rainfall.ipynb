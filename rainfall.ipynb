{
 "cells": [
  {
   "cell_type": "code",
   "execution_count": 1,
   "metadata": {},
   "outputs": [],
   "source": [
    "import numpy as np\n",
    "import pandas as pd\n",
    "import matplotlib.pyplot as plt\n",
    "import seaborn as sns"
   ]
  },
  {
   "cell_type": "code",
   "execution_count": 2,
   "metadata": {},
   "outputs": [
    {
     "name": "stdout",
     "output_type": "stream",
     "text": [
      "<class 'pandas.core.frame.DataFrame'>\n",
      "RangeIndex: 4188 entries, 0 to 4187\n",
      "Data columns (total 19 columns):\n",
      "SUBDIVISION    4188 non-null object\n",
      "YEAR           4188 non-null int64\n",
      "JAN            4188 non-null float64\n",
      "FEB            4188 non-null float64\n",
      "MAR            4188 non-null float64\n",
      "APR            4188 non-null float64\n",
      "MAY            4188 non-null float64\n",
      "JUN            4188 non-null float64\n",
      "JUL            4188 non-null float64\n",
      "AUG            4188 non-null float64\n",
      "SEP            4188 non-null float64\n",
      "OCT            4188 non-null float64\n",
      "NOV            4188 non-null float64\n",
      "DEC            4188 non-null float64\n",
      "ANNUAL         4188 non-null float64\n",
      "JF             4188 non-null float64\n",
      "MAM            4188 non-null float64\n",
      "JJAS           4188 non-null float64\n",
      "OND            4188 non-null float64\n",
      "dtypes: float64(17), int64(1), object(1)\n",
      "memory usage: 621.7+ KB\n"
     ]
    }
   ],
   "source": [
    "data = pd.read_csv(\"Sub_Division_IMD_2017.csv\",sep=\",\")\n",
    "data = data.fillna(data.mean())\n",
    "data.info()"
   ]
  },
  {
   "cell_type": "code",
   "execution_count": 3,
   "metadata": {},
   "outputs": [
    {
     "data": {
      "text/html": [
       "<div>\n",
       "<style scoped>\n",
       "    .dataframe tbody tr th:only-of-type {\n",
       "        vertical-align: middle;\n",
       "    }\n",
       "\n",
       "    .dataframe tbody tr th {\n",
       "        vertical-align: top;\n",
       "    }\n",
       "\n",
       "    .dataframe thead th {\n",
       "        text-align: right;\n",
       "    }\n",
       "</style>\n",
       "<table border=\"1\" class=\"dataframe\">\n",
       "  <thead>\n",
       "    <tr style=\"text-align: right;\">\n",
       "      <th></th>\n",
       "      <th>SUBDIVISION</th>\n",
       "      <th>YEAR</th>\n",
       "      <th>JAN</th>\n",
       "      <th>FEB</th>\n",
       "      <th>MAR</th>\n",
       "      <th>APR</th>\n",
       "      <th>MAY</th>\n",
       "      <th>JUN</th>\n",
       "      <th>JUL</th>\n",
       "      <th>AUG</th>\n",
       "      <th>SEP</th>\n",
       "      <th>OCT</th>\n",
       "      <th>NOV</th>\n",
       "      <th>DEC</th>\n",
       "      <th>ANNUAL</th>\n",
       "      <th>JF</th>\n",
       "      <th>MAM</th>\n",
       "      <th>JJAS</th>\n",
       "      <th>OND</th>\n",
       "    </tr>\n",
       "  </thead>\n",
       "  <tbody>\n",
       "    <tr>\n",
       "      <th>0</th>\n",
       "      <td>Andaman &amp; Nicobar Islands</td>\n",
       "      <td>1901</td>\n",
       "      <td>49.2</td>\n",
       "      <td>87.1</td>\n",
       "      <td>29.2</td>\n",
       "      <td>2.3</td>\n",
       "      <td>528.8</td>\n",
       "      <td>517.5</td>\n",
       "      <td>365.1</td>\n",
       "      <td>481.1</td>\n",
       "      <td>332.6</td>\n",
       "      <td>388.5</td>\n",
       "      <td>558.2</td>\n",
       "      <td>33.6</td>\n",
       "      <td>3373.2</td>\n",
       "      <td>136.3</td>\n",
       "      <td>560.3</td>\n",
       "      <td>1696.3</td>\n",
       "      <td>980.3</td>\n",
       "    </tr>\n",
       "    <tr>\n",
       "      <th>1</th>\n",
       "      <td>Andaman &amp; Nicobar Islands</td>\n",
       "      <td>1902</td>\n",
       "      <td>0.0</td>\n",
       "      <td>159.8</td>\n",
       "      <td>12.2</td>\n",
       "      <td>0.0</td>\n",
       "      <td>446.1</td>\n",
       "      <td>537.1</td>\n",
       "      <td>228.9</td>\n",
       "      <td>753.7</td>\n",
       "      <td>666.2</td>\n",
       "      <td>197.2</td>\n",
       "      <td>359.0</td>\n",
       "      <td>160.5</td>\n",
       "      <td>3520.7</td>\n",
       "      <td>159.8</td>\n",
       "      <td>458.3</td>\n",
       "      <td>2185.9</td>\n",
       "      <td>716.7</td>\n",
       "    </tr>\n",
       "    <tr>\n",
       "      <th>2</th>\n",
       "      <td>Andaman &amp; Nicobar Islands</td>\n",
       "      <td>1903</td>\n",
       "      <td>12.7</td>\n",
       "      <td>144.0</td>\n",
       "      <td>0.0</td>\n",
       "      <td>1.0</td>\n",
       "      <td>235.1</td>\n",
       "      <td>479.9</td>\n",
       "      <td>728.4</td>\n",
       "      <td>326.7</td>\n",
       "      <td>339.0</td>\n",
       "      <td>181.2</td>\n",
       "      <td>284.4</td>\n",
       "      <td>225.0</td>\n",
       "      <td>2957.4</td>\n",
       "      <td>156.7</td>\n",
       "      <td>236.1</td>\n",
       "      <td>1874.0</td>\n",
       "      <td>690.6</td>\n",
       "    </tr>\n",
       "    <tr>\n",
       "      <th>3</th>\n",
       "      <td>Andaman &amp; Nicobar Islands</td>\n",
       "      <td>1904</td>\n",
       "      <td>9.4</td>\n",
       "      <td>14.7</td>\n",
       "      <td>0.0</td>\n",
       "      <td>202.4</td>\n",
       "      <td>304.5</td>\n",
       "      <td>495.1</td>\n",
       "      <td>502.0</td>\n",
       "      <td>160.1</td>\n",
       "      <td>820.4</td>\n",
       "      <td>222.2</td>\n",
       "      <td>308.7</td>\n",
       "      <td>40.1</td>\n",
       "      <td>3079.6</td>\n",
       "      <td>24.1</td>\n",
       "      <td>506.9</td>\n",
       "      <td>1977.6</td>\n",
       "      <td>571.0</td>\n",
       "    </tr>\n",
       "    <tr>\n",
       "      <th>4</th>\n",
       "      <td>Andaman &amp; Nicobar Islands</td>\n",
       "      <td>1905</td>\n",
       "      <td>1.3</td>\n",
       "      <td>0.0</td>\n",
       "      <td>3.3</td>\n",
       "      <td>26.9</td>\n",
       "      <td>279.5</td>\n",
       "      <td>628.7</td>\n",
       "      <td>368.7</td>\n",
       "      <td>330.5</td>\n",
       "      <td>297.0</td>\n",
       "      <td>260.7</td>\n",
       "      <td>25.4</td>\n",
       "      <td>344.7</td>\n",
       "      <td>2566.7</td>\n",
       "      <td>1.3</td>\n",
       "      <td>309.7</td>\n",
       "      <td>1624.9</td>\n",
       "      <td>630.8</td>\n",
       "    </tr>\n",
       "  </tbody>\n",
       "</table>\n",
       "</div>"
      ],
      "text/plain": [
       "                 SUBDIVISION  YEAR   JAN    FEB   MAR    APR    MAY    JUN  \\\n",
       "0  Andaman & Nicobar Islands  1901  49.2   87.1  29.2    2.3  528.8  517.5   \n",
       "1  Andaman & Nicobar Islands  1902   0.0  159.8  12.2    0.0  446.1  537.1   \n",
       "2  Andaman & Nicobar Islands  1903  12.7  144.0   0.0    1.0  235.1  479.9   \n",
       "3  Andaman & Nicobar Islands  1904   9.4   14.7   0.0  202.4  304.5  495.1   \n",
       "4  Andaman & Nicobar Islands  1905   1.3    0.0   3.3   26.9  279.5  628.7   \n",
       "\n",
       "     JUL    AUG    SEP    OCT    NOV    DEC  ANNUAL     JF    MAM    JJAS  \\\n",
       "0  365.1  481.1  332.6  388.5  558.2   33.6  3373.2  136.3  560.3  1696.3   \n",
       "1  228.9  753.7  666.2  197.2  359.0  160.5  3520.7  159.8  458.3  2185.9   \n",
       "2  728.4  326.7  339.0  181.2  284.4  225.0  2957.4  156.7  236.1  1874.0   \n",
       "3  502.0  160.1  820.4  222.2  308.7   40.1  3079.6   24.1  506.9  1977.6   \n",
       "4  368.7  330.5  297.0  260.7   25.4  344.7  2566.7    1.3  309.7  1624.9   \n",
       "\n",
       "     OND  \n",
       "0  980.3  \n",
       "1  716.7  \n",
       "2  690.6  \n",
       "3  571.0  \n",
       "4  630.8  "
      ]
     },
     "execution_count": 3,
     "metadata": {},
     "output_type": "execute_result"
    }
   ],
   "source": [
    "data.head()"
   ]
  },
  {
   "cell_type": "code",
   "execution_count": 4,
   "metadata": {},
   "outputs": [
    {
     "data": {
      "text/html": [
       "<div>\n",
       "<style scoped>\n",
       "    .dataframe tbody tr th:only-of-type {\n",
       "        vertical-align: middle;\n",
       "    }\n",
       "\n",
       "    .dataframe tbody tr th {\n",
       "        vertical-align: top;\n",
       "    }\n",
       "\n",
       "    .dataframe thead th {\n",
       "        text-align: right;\n",
       "    }\n",
       "</style>\n",
       "<table border=\"1\" class=\"dataframe\">\n",
       "  <thead>\n",
       "    <tr style=\"text-align: right;\">\n",
       "      <th></th>\n",
       "      <th>YEAR</th>\n",
       "      <th>JAN</th>\n",
       "      <th>FEB</th>\n",
       "      <th>MAR</th>\n",
       "      <th>APR</th>\n",
       "      <th>MAY</th>\n",
       "      <th>JUN</th>\n",
       "      <th>JUL</th>\n",
       "      <th>AUG</th>\n",
       "      <th>SEP</th>\n",
       "      <th>OCT</th>\n",
       "      <th>NOV</th>\n",
       "      <th>DEC</th>\n",
       "      <th>ANNUAL</th>\n",
       "      <th>JF</th>\n",
       "      <th>MAM</th>\n",
       "      <th>JJAS</th>\n",
       "      <th>OND</th>\n",
       "    </tr>\n",
       "  </thead>\n",
       "  <tbody>\n",
       "    <tr>\n",
       "      <th>count</th>\n",
       "      <td>4188.000000</td>\n",
       "      <td>4188.000000</td>\n",
       "      <td>4188.000000</td>\n",
       "      <td>4188.000000</td>\n",
       "      <td>4188.000000</td>\n",
       "      <td>4188.000000</td>\n",
       "      <td>4188.000000</td>\n",
       "      <td>4188.000000</td>\n",
       "      <td>4188.000000</td>\n",
       "      <td>4188.000000</td>\n",
       "      <td>4188.000000</td>\n",
       "      <td>4188.000000</td>\n",
       "      <td>4188.000000</td>\n",
       "      <td>4188.000000</td>\n",
       "      <td>4188.000000</td>\n",
       "      <td>4188.000000</td>\n",
       "      <td>4188.000000</td>\n",
       "      <td>4188.000000</td>\n",
       "    </tr>\n",
       "    <tr>\n",
       "      <th>mean</th>\n",
       "      <td>1959.220630</td>\n",
       "      <td>18.938337</td>\n",
       "      <td>21.599427</td>\n",
       "      <td>27.412912</td>\n",
       "      <td>43.071845</td>\n",
       "      <td>85.660860</td>\n",
       "      <td>230.117475</td>\n",
       "      <td>347.020043</td>\n",
       "      <td>289.742185</td>\n",
       "      <td>197.316332</td>\n",
       "      <td>95.324707</td>\n",
       "      <td>39.496433</td>\n",
       "      <td>18.968645</td>\n",
       "      <td>1409.449207</td>\n",
       "      <td>40.522979</td>\n",
       "      <td>155.820914</td>\n",
       "      <td>1063.851580</td>\n",
       "      <td>153.648623</td>\n",
       "    </tr>\n",
       "    <tr>\n",
       "      <th>std</th>\n",
       "      <td>33.717097</td>\n",
       "      <td>33.776982</td>\n",
       "      <td>35.718931</td>\n",
       "      <td>46.894327</td>\n",
       "      <td>68.118424</td>\n",
       "      <td>122.651174</td>\n",
       "      <td>234.152152</td>\n",
       "      <td>268.625870</td>\n",
       "      <td>188.336044</td>\n",
       "      <td>135.450491</td>\n",
       "      <td>99.111897</td>\n",
       "      <td>68.268852</td>\n",
       "      <td>43.002315</td>\n",
       "      <td>899.792622</td>\n",
       "      <td>59.251404</td>\n",
       "      <td>200.982272</td>\n",
       "      <td>705.821659</td>\n",
       "      <td>166.603928</td>\n",
       "    </tr>\n",
       "    <tr>\n",
       "      <th>min</th>\n",
       "      <td>1901.000000</td>\n",
       "      <td>0.000000</td>\n",
       "      <td>0.000000</td>\n",
       "      <td>0.000000</td>\n",
       "      <td>0.000000</td>\n",
       "      <td>0.000000</td>\n",
       "      <td>0.400000</td>\n",
       "      <td>0.000000</td>\n",
       "      <td>0.000000</td>\n",
       "      <td>0.100000</td>\n",
       "      <td>0.000000</td>\n",
       "      <td>0.000000</td>\n",
       "      <td>0.000000</td>\n",
       "      <td>62.300000</td>\n",
       "      <td>0.000000</td>\n",
       "      <td>0.000000</td>\n",
       "      <td>57.400000</td>\n",
       "      <td>0.000000</td>\n",
       "    </tr>\n",
       "    <tr>\n",
       "      <th>25%</th>\n",
       "      <td>1930.000000</td>\n",
       "      <td>0.600000</td>\n",
       "      <td>0.500000</td>\n",
       "      <td>1.000000</td>\n",
       "      <td>3.000000</td>\n",
       "      <td>8.675000</td>\n",
       "      <td>70.875000</td>\n",
       "      <td>175.900000</td>\n",
       "      <td>155.975000</td>\n",
       "      <td>100.400000</td>\n",
       "      <td>14.600000</td>\n",
       "      <td>0.600000</td>\n",
       "      <td>0.100000</td>\n",
       "      <td>805.275000</td>\n",
       "      <td>4.000000</td>\n",
       "      <td>24.175000</td>\n",
       "      <td>574.375000</td>\n",
       "      <td>34.175000</td>\n",
       "    </tr>\n",
       "    <tr>\n",
       "      <th>50%</th>\n",
       "      <td>1959.000000</td>\n",
       "      <td>6.000000</td>\n",
       "      <td>6.500000</td>\n",
       "      <td>7.900000</td>\n",
       "      <td>15.500000</td>\n",
       "      <td>36.900000</td>\n",
       "      <td>139.000000</td>\n",
       "      <td>285.250000</td>\n",
       "      <td>258.900000</td>\n",
       "      <td>173.900000</td>\n",
       "      <td>65.750000</td>\n",
       "      <td>9.450000</td>\n",
       "      <td>3.100000</td>\n",
       "      <td>1124.150000</td>\n",
       "      <td>19.000000</td>\n",
       "      <td>75.150000</td>\n",
       "      <td>881.500000</td>\n",
       "      <td>98.350000</td>\n",
       "    </tr>\n",
       "    <tr>\n",
       "      <th>75%</th>\n",
       "      <td>1988.000000</td>\n",
       "      <td>22.000000</td>\n",
       "      <td>26.600000</td>\n",
       "      <td>31.300000</td>\n",
       "      <td>49.525000</td>\n",
       "      <td>97.725000</td>\n",
       "      <td>304.300000</td>\n",
       "      <td>418.400000</td>\n",
       "      <td>377.525000</td>\n",
       "      <td>265.825000</td>\n",
       "      <td>148.100000</td>\n",
       "      <td>45.000000</td>\n",
       "      <td>17.700000</td>\n",
       "      <td>1634.075000</td>\n",
       "      <td>50.100000</td>\n",
       "      <td>196.900000</td>\n",
       "      <td>1284.525000</td>\n",
       "      <td>211.350000</td>\n",
       "    </tr>\n",
       "    <tr>\n",
       "      <th>max</th>\n",
       "      <td>2017.000000</td>\n",
       "      <td>583.700000</td>\n",
       "      <td>403.500000</td>\n",
       "      <td>605.600000</td>\n",
       "      <td>595.100000</td>\n",
       "      <td>1168.600000</td>\n",
       "      <td>1609.900000</td>\n",
       "      <td>2362.800000</td>\n",
       "      <td>1664.600000</td>\n",
       "      <td>1222.000000</td>\n",
       "      <td>948.300000</td>\n",
       "      <td>648.900000</td>\n",
       "      <td>617.500000</td>\n",
       "      <td>6331.100000</td>\n",
       "      <td>699.500000</td>\n",
       "      <td>1745.800000</td>\n",
       "      <td>4536.900000</td>\n",
       "      <td>1252.500000</td>\n",
       "    </tr>\n",
       "  </tbody>\n",
       "</table>\n",
       "</div>"
      ],
      "text/plain": [
       "              YEAR          JAN          FEB          MAR          APR  \\\n",
       "count  4188.000000  4188.000000  4188.000000  4188.000000  4188.000000   \n",
       "mean   1959.220630    18.938337    21.599427    27.412912    43.071845   \n",
       "std      33.717097    33.776982    35.718931    46.894327    68.118424   \n",
       "min    1901.000000     0.000000     0.000000     0.000000     0.000000   \n",
       "25%    1930.000000     0.600000     0.500000     1.000000     3.000000   \n",
       "50%    1959.000000     6.000000     6.500000     7.900000    15.500000   \n",
       "75%    1988.000000    22.000000    26.600000    31.300000    49.525000   \n",
       "max    2017.000000   583.700000   403.500000   605.600000   595.100000   \n",
       "\n",
       "               MAY          JUN          JUL          AUG          SEP  \\\n",
       "count  4188.000000  4188.000000  4188.000000  4188.000000  4188.000000   \n",
       "mean     85.660860   230.117475   347.020043   289.742185   197.316332   \n",
       "std     122.651174   234.152152   268.625870   188.336044   135.450491   \n",
       "min       0.000000     0.400000     0.000000     0.000000     0.100000   \n",
       "25%       8.675000    70.875000   175.900000   155.975000   100.400000   \n",
       "50%      36.900000   139.000000   285.250000   258.900000   173.900000   \n",
       "75%      97.725000   304.300000   418.400000   377.525000   265.825000   \n",
       "max    1168.600000  1609.900000  2362.800000  1664.600000  1222.000000   \n",
       "\n",
       "               OCT          NOV          DEC       ANNUAL           JF  \\\n",
       "count  4188.000000  4188.000000  4188.000000  4188.000000  4188.000000   \n",
       "mean     95.324707    39.496433    18.968645  1409.449207    40.522979   \n",
       "std      99.111897    68.268852    43.002315   899.792622    59.251404   \n",
       "min       0.000000     0.000000     0.000000    62.300000     0.000000   \n",
       "25%      14.600000     0.600000     0.100000   805.275000     4.000000   \n",
       "50%      65.750000     9.450000     3.100000  1124.150000    19.000000   \n",
       "75%     148.100000    45.000000    17.700000  1634.075000    50.100000   \n",
       "max     948.300000   648.900000   617.500000  6331.100000   699.500000   \n",
       "\n",
       "               MAM         JJAS          OND  \n",
       "count  4188.000000  4188.000000  4188.000000  \n",
       "mean    155.820914  1063.851580   153.648623  \n",
       "std     200.982272   705.821659   166.603928  \n",
       "min       0.000000    57.400000     0.000000  \n",
       "25%      24.175000   574.375000    34.175000  \n",
       "50%      75.150000   881.500000    98.350000  \n",
       "75%     196.900000  1284.525000   211.350000  \n",
       "max    1745.800000  4536.900000  1252.500000  "
      ]
     },
     "execution_count": 4,
     "metadata": {},
     "output_type": "execute_result"
    }
   ],
   "source": [
    "data.describe()"
   ]
  },
  {
   "cell_type": "code",
   "execution_count": 5,
   "metadata": {},
   "outputs": [],
   "source": [
    "#Function to plot the graphs\n",
    "def plot_graphs(groundtruth,prediction,title):        \n",
    "    N = 9\n",
    "    ind = np.arange(N)  # the x locations for the groups\n",
    "    width = 0.27       # the width of the bars\n",
    "\n",
    "    fig = plt.figure()\n",
    "    fig.suptitle(title, fontsize=12)\n",
    "    ax = fig.add_subplot(111)\n",
    "    rects1 = ax.bar(ind, groundtruth, width, color='r')\n",
    "    rects2 = ax.bar(ind+width, prediction, width, color='g')\n",
    "\n",
    "    ax.set_ylabel(\"Amount of rainfall\")\n",
    "    ax.set_xticks(ind+width)\n",
    "    ax.set_xticklabels( ('APR', 'MAY', 'JUN', 'JUL','AUG', 'SEP', 'OCT', 'NOV', 'DEC') )\n",
    "    ax.legend( (rects1[0], rects2[0]), ('Ground truth', 'Prediction') )\n",
    "\n",
    "#     autolabel(rects1)\n",
    "    for rect in rects1:\n",
    "        h = rect.get_height()\n",
    "        ax.text(rect.get_x()+rect.get_width()/2., 1.05*h, '%d'%int(h),\n",
    "                ha='center', va='bottom')\n",
    "    for rect in rects2:\n",
    "        h = rect.get_height()\n",
    "        ax.text(rect.get_x()+rect.get_width()/2., 1.05*h, '%d'%int(h),\n",
    "                ha='center', va='bottom')\n",
    "#     autolabel(rects2)\n",
    "\n",
    "    plt.show()"
   ]
  },
  {
   "cell_type": "code",
   "execution_count": 6,
   "metadata": {},
   "outputs": [],
   "source": [
    "# seperation of training and testing data\n",
    "from sklearn.model_selection import train_test_split\n",
    "from sklearn.metrics import mean_absolute_error\n",
    "\n",
    "division_data = np.asarray(data[['JAN', 'FEB', 'MAR', 'APR', 'MAY', 'JUN', 'JUL',\n",
    "       'AUG', 'SEP', 'OCT', 'NOV', 'DEC']])\n",
    "\n",
    "X = None; y = None\n",
    "for i in range(division_data.shape[1]-3):\n",
    "    if X is None:\n",
    "        X = division_data[:, i:i+3]\n",
    "        y = division_data[:, i+3]\n",
    "    else:\n",
    "        X = np.concatenate((X, division_data[:, i:i+3]), axis=0)\n",
    "        y = np.concatenate((y, division_data[:, i+3]), axis=0)\n",
    "        \n",
    "X_train, X_test, y_train, y_test = train_test_split(X, y, test_size=0.1, random_state=42)"
   ]
  },
  {
   "cell_type": "code",
   "execution_count": 7,
   "metadata": {},
   "outputs": [],
   "source": [
    "#test data 2017 and filtering only kerala\n",
    "temp = data[['SUBDIVISION','JAN', 'FEB', 'MAR', 'APR', 'MAY', 'JUN', 'JUL',\n",
    "       'AUG', 'SEP', 'OCT', 'NOV', 'DEC']].loc[data['YEAR'] == 2017]\n",
    "\n",
    "data_2017 = np.asarray(temp[['JAN', 'FEB', 'MAR', 'APR', 'MAY', 'JUN', 'JUL',\n",
    "       'AUG', 'SEP', 'OCT', 'NOV', 'DEC']].loc[temp['SUBDIVISION'] == 'Kerala'])\n",
    "\n",
    "X_year_2017 = None; y_year_2017 = None\n",
    "for i in range(data_2017.shape[1]-3):\n",
    "    if X_year_2017 is None:\n",
    "        X_year_2017 = data_2017[:, i:i+3]\n",
    "        y_year_2017 = data_2017[:, i+3]\n",
    "    else:\n",
    "        X_year_2017 = np.concatenate((X_year_2017, data_2017[:, i:i+3]), axis=0)\n",
    "        y_year_2017 = np.concatenate((y_year_2017, data_2017[:, i+3]), axis=0)"
   ]
  },
  {
   "cell_type": "code",
   "execution_count": 8,
   "metadata": {},
   "outputs": [
    {
     "name": "stdout",
     "output_type": "stream",
     "text": [
      "92.94719230113891\n"
     ]
    }
   ],
   "source": [
    "from sklearn import linear_model\n",
    "\n",
    "# linear model\n",
    "reg = linear_model.ElasticNet(alpha=0.5)\n",
    "reg.fit(X_train, y_train)\n",
    "y_pred = reg.predict(X_test)\n",
    "print (mean_absolute_error(y_test, y_pred))"
   ]
  },
  {
   "cell_type": "code",
   "execution_count": 9,
   "metadata": {},
   "outputs": [
    {
     "name": "stdout",
     "output_type": "stream",
     "text": [
      "MEAN 2017\n",
      "284.8888888888889 222.03541368732283\n",
      "Standard deviation 2017\n",
      "176.3227119954548 116.81647900091703\n"
     ]
    },
    {
     "data": {
      "image/png": "[encoded data removed]",
      "text/plain": [
       "<Figure size 432x288 with 1 Axes>"
      ]
     },
     "metadata": {
      "needs_background": "light"
     },
     "output_type": "display_data"
    }
   ],
   "source": [
    "y_year_pred_2017 = reg.predict(X_year_2017)\n",
    "\n",
    "\n",
    "print (\"MEAN 2017\")\n",
    "print (np.mean(y_year_2017),np.mean(y_year_pred_2017))\n",
    "print (\"Standard deviation 2017\")\n",
    "print (np.sqrt(np.var(y_year_2017)),np.sqrt(np.var(y_year_pred_2017)))\n",
    "\n",
    "\n",
    "plot_graphs(y_year_2017,y_year_pred_2017,\"Year-2017\")"
   ]
  },
  {
   "cell_type": "code",
   "execution_count": 10,
   "metadata": {},
   "outputs": [
    {
     "name": "stdout",
     "output_type": "stream",
     "text": [
      "123.93604850794677\n"
     ]
    }
   ],
   "source": [
    "from sklearn.svm import SVR\n",
    "\n",
    "# SVM model\n",
    "clf = SVR(gamma='auto', C=0.1, epsilon=0.2)\n",
    "clf.fit(X_train, y_train) \n",
    "y_pred = clf.predict(X_test)\n",
    "print (mean_absolute_error(y_test, y_pred))"
   ]
  },
  {
   "cell_type": "code",
   "execution_count": 11,
   "metadata": {},
   "outputs": [
    {
     "name": "stdout",
     "output_type": "stream",
     "text": [
      "MEAN 2017\n",
      "284.8888888888889 83.04325637542318\n",
      "Standard deviation 2017\n",
      "176.3227119954548 0.08286359757885971\n"
     ]
    },
    {
     "data": {
      "image/png": "[encoded data removed]",
      "text/plain": [
       "<Figure size 432x288 with 1 Axes>"
      ]
     },
     "metadata": {
      "needs_background": "light"
     },
     "output_type": "display_data"
    }
   ],
   "source": [
    "y_year_pred_2017 = clf.predict(X_year_2017)\n",
    "\n",
    "\n",
    "print (\"MEAN 2017\")\n",
    "print (np.mean(y_year_2017),np.mean(y_year_pred_2017))\n",
    "print (\"Standard deviation 2017\")\n",
    "print (np.sqrt(np.var(y_year_2017)),np.sqrt(np.var(y_year_pred_2017)))\n",
    "\n",
    "\n",
    "plot_graphs(y_year_2017,y_year_pred_2017,\"Year-2017\")"
   ]
  },
  {
   "cell_type": "code",
   "execution_count": 12,
   "metadata": {},
   "outputs": [
    {
     "name": "stderr",
     "output_type": "stream",
     "text": [
      "Using TensorFlow backend.\n"
     ]
    },
    {
     "name": "stdout",
     "output_type": "stream",
     "text": [
      "_________________________________________________________________\n",
      "Layer (type)                 Output Shape              Param #   \n",
      "=================================================================\n",
      "input_1 (InputLayer)         (None, 3, 1)              0         \n",
      "_________________________________________________________________\n",
      "conv1d_1 (Conv1D)            (None, 3, 64)             192       \n",
      "_________________________________________________________________\n",
      "conv1d_2 (Conv1D)            (None, 3, 128)            16512     \n",
      "_________________________________________________________________\n",
      "flatten_1 (Flatten)          (None, 384)               0         \n",
      "_________________________________________________________________\n",
      "dense_1 (Dense)              (None, 128)               49280     \n",
      "_________________________________________________________________\n",
      "dense_2 (Dense)              (None, 64)                8256      \n",
      "_________________________________________________________________\n",
      "dense_3 (Dense)              (None, 32)                2080      \n",
      "_________________________________________________________________\n",
      "dense_4 (Dense)              (None, 1)                 33        \n",
      "=================================================================\n",
      "Total params: 76,353\n",
      "Trainable params: 76,353\n",
      "Non-trainable params: 0\n",
      "_________________________________________________________________\n"
     ]
    }
   ],
   "source": [
    "from keras.models import Model\n",
    "from keras.layers import Dense, Input, Conv1D, Flatten\n",
    "\n",
    "# NN model\n",
    "inputs = Input(shape=(3,1))\n",
    "x = Conv1D(64, 2, padding='same', activation='elu')(inputs)\n",
    "x = Conv1D(128, 2, padding='same', activation='elu')(x)\n",
    "x = Flatten()(x)\n",
    "x = Dense(128, activation='elu')(x)\n",
    "x = Dense(64, activation='elu')(x)\n",
    "x = Dense(32, activation='elu')(x)\n",
    "x = Dense(1, activation='linear')(x)\n",
    "model = Model(inputs=[inputs], outputs=[x])\n",
    "model.compile(loss='mean_squared_error', optimizer='adamax', metrics=['mae'])\n",
    "model.summary()"
   ]
  },
  {
   "cell_type": "code",
   "execution_count": 13,
   "metadata": {},
   "outputs": [
    {
     "name": "stdout",
     "output_type": "stream",
     "text": [
      "Train on 30529 samples, validate on 3393 samples\n",
      "Epoch 1/10\n",
      "30529/30529 [==============================] - 21s 698us/step - loss: 19752.6171 - mean_absolute_error: 88.1513 - val_loss: 16651.2887 - val_mean_absolute_error: 83.5710\n",
      "Epoch 2/10\n",
      "30529/30529 [==============================] - 18s 597us/step - loss: 18725.9371 - mean_absolute_error: 87.1074 - val_loss: 17176.8365 - val_mean_absolute_error: 85.9327\n",
      "Epoch 3/10\n",
      "30529/30529 [==============================] - 21s 693us/step - loss: 18635.9343 - mean_absolute_error: 86.8394 - val_loss: 16658.0870 - val_mean_absolute_error: 83.0327\n",
      "Epoch 4/10\n",
      "30529/30529 [==============================] - 21s 701us/step - loss: 18501.8387 - mean_absolute_error: 86.4224 - val_loss: 16605.5627 - val_mean_absolute_error: 82.7577\n",
      "Epoch 5/10\n",
      "30529/30529 [==============================] - 20s 650us/step - loss: 18469.6380 - mean_absolute_error: 86.5666 - val_loss: 16821.5789 - val_mean_absolute_error: 85.3691\n",
      "Epoch 6/10\n",
      "30529/30529 [==============================] - 22s 710us/step - loss: 18432.6882 - mean_absolute_error: 86.3947 - val_loss: 16678.7947 - val_mean_absolute_error: 84.2505\n",
      "Epoch 7/10\n",
      "30529/30529 [==============================] - 21s 675us/step - loss: 18286.0505 - mean_absolute_error: 86.1070 - val_loss: 16716.6831 - val_mean_absolute_error: 83.1778\n",
      "Epoch 8/10\n",
      "30529/30529 [==============================] - 22s 709us/step - loss: 18304.2474 - mean_absolute_error: 86.0187 - val_loss: 16521.8954 - val_mean_absolute_error: 83.3587\n",
      "Epoch 9/10\n",
      "30529/30529 [==============================] - 20s 643us/step - loss: 18155.2478 - mean_absolute_error: 85.6509 - val_loss: 16495.9446 - val_mean_absolute_error: 82.1293\n",
      "Epoch 10/10\n",
      "30529/30529 [==============================] - 20s 657us/step - loss: 18036.9673 - mean_absolute_error: 85.2762 - val_loss: 16548.1964 - val_mean_absolute_error: 81.8451\n",
      "85.25692951228193\n"
     ]
    }
   ],
   "source": [
    "model.fit(x=np.expand_dims(X_train, axis=2), y=y_train, batch_size=64, epochs=10, verbose=1, validation_split=0.1, shuffle=True)\n",
    "y_pred = model.predict(np.expand_dims(X_test, axis=2))\n",
    "print (mean_absolute_error(y_test, y_pred))"
   ]
  },
  {
   "cell_type": "code",
   "execution_count": 34,
   "metadata": {},
   "outputs": [
    {
     "name": "stdout",
     "output_type": "stream",
     "text": [
      "MEAN 2017\n",
      "284.8888888888889 295.06964\n",
      "Standard deviation 2017\n",
      "176.3227119954548 154.4586\n"
     ]
    },
    {
     "data": {
      "image/png": "[encoded data removed]",
      "text/plain": [
       "<Figure size 432x288 with 1 Axes>"
      ]
     },
     "metadata": {
      "needs_background": "light"
     },
     "output_type": "display_data"
    }
   ],
   "source": [
    "y_year_pred_2017 = model.predict(np.expand_dims(X_year_2017, axis=2))\n",
    "\n",
    "\n",
    "print (\"MEAN 2017\")\n",
    "print (np.mean(y_year_2017),np.mean(y_year_pred_2017))\n",
    "print (\"Standard deviation 2017\")\n",
    "print (np.sqrt(np.var(y_year_2017)),np.sqrt(np.var(y_year_pred_2017)))\n",
    "\n",
    "\n",
    "plot_graphs(y_year_2017,y_year_pred_2017[:,0],\"Year-2017\")"
   ]
  },
  {
   "cell_type": "code",
   "execution_count": 15,
   "metadata": {},
   "outputs": [],
   "source": [
    "# spliting training and testing data only for Kerala\n",
    "Kerala = np.asarray(data[['JAN', 'FEB', 'MAR', 'APR', 'MAY', 'JUN', 'JUL',\n",
    "       'AUG', 'SEP', 'OCT', 'NOV', 'DEC']].loc[data['SUBDIVISION'] == 'Kerala'])\n",
    "\n",
    "X = None; y = None\n",
    "for i in range(Kerala.shape[1]-3):\n",
    "    if X is None:\n",
    "        X = Kerala[:, i:i+3]\n",
    "        y = Kerala[:, i+3]\n",
    "    else:\n",
    "        X = np.concatenate((X, Kerala[:, i:i+3]), axis=0)\n",
    "        y = np.concatenate((y, Kerala[:, i+3]), axis=0)\n",
    "        \n",
    "X_train, X_test, y_train, y_test = train_test_split(X, y, test_size=0.01, random_state=42)"
   ]
  },
  {
   "cell_type": "code",
   "execution_count": 16,
   "metadata": {},
   "outputs": [
    {
     "name": "stdout",
     "output_type": "stream",
     "text": [
      "172.39703732925034\n"
     ]
    }
   ],
   "source": [
    "from sklearn import linear_model\n",
    "\n",
    "# linear model\n",
    "reg = linear_model.ElasticNet(alpha=0.5)\n",
    "reg.fit(X_train, y_train)\n",
    "y_pred = reg.predict(X_test)\n",
    "print (mean_absolute_error(y_test, y_pred))"
   ]
  },
  {
   "cell_type": "code",
   "execution_count": 17,
   "metadata": {},
   "outputs": [
    {
     "name": "stdout",
     "output_type": "stream",
     "text": [
      "MEAN 2017\n",
      "284.8888888888889 308.318288712231\n",
      "Standard deviation 2017\n",
      "176.3227119954548 84.03370587567758\n"
     ]
    },
    {
     "data": {
      "image/png": "[encoded data removed]",
      "text/plain": [
       "<Figure size 432x288 with 1 Axes>"
      ]
     },
     "metadata": {
      "needs_background": "light"
     },
     "output_type": "display_data"
    }
   ],
   "source": [
    "y_year_pred_2017 = reg.predict(X_year_2017)\n",
    "\n",
    "\n",
    "print (\"MEAN 2017\")\n",
    "print (np.mean(y_year_2017),np.mean(y_year_pred_2017))\n",
    "print (\"Standard deviation 2017\")\n",
    "print (np.sqrt(np.var(y_year_2017)),np.sqrt(np.var(y_year_pred_2017)))\n",
    "\n",
    "\n",
    "plot_graphs(y_year_2017,y_year_pred_2017,\"Year-2017\")"
   ]
  },
  {
   "cell_type": "code",
   "execution_count": 18,
   "metadata": {},
   "outputs": [
    {
     "name": "stdout",
     "output_type": "stream",
     "text": [
      "211.75447194328896\n"
     ]
    }
   ],
   "source": [
    "from sklearn.svm import SVR\n",
    "\n",
    "# SVM model\n",
    "clf = SVR(kernel='rbf', gamma='auto', C=0.5, epsilon=0.2)\n",
    "clf.fit(X_train, y_train) \n",
    "y_pred = clf.predict(X_test)\n",
    "print (mean_absolute_error(y_test, y_pred))"
   ]
  },
  {
   "cell_type": "code",
   "execution_count": 19,
   "metadata": {},
   "outputs": [
    {
     "name": "stdout",
     "output_type": "stream",
     "text": [
      "MEAN 2017\n",
      "284.8888888888889 248.89999843569433\n",
      "Standard deviation 2017\n",
      "176.3227119954548 0.47140618000556683\n"
     ]
    },
    {
     "data": {
      "image/png": "[encoded data removed]",
      "text/plain": [
       "<Figure size 432x288 with 1 Axes>"
      ]
     },
     "metadata": {
      "needs_background": "light"
     },
     "output_type": "display_data"
    }
   ],
   "source": [
    "y_year_pred_2017 = clf.predict(X_year_2017)\n",
    "\n",
    "\n",
    "print (\"MEAN 2017\")\n",
    "print (np.mean(y_year_2017),np.mean(y_year_pred_2017))\n",
    "print (\"Standard deviation 2017\")\n",
    "print (np.sqrt(np.var(y_year_2017)),np.sqrt(np.var(y_year_pred_2017)))\n",
    "\n",
    "\n",
    "plot_graphs(y_year_2017,y_year_pred_2017,\"Year-2017\")"
   ]
  },
  {
   "cell_type": "code",
   "execution_count": 20,
   "metadata": {},
   "outputs": [
    {
     "name": "stdout",
     "output_type": "stream",
     "text": [
      "Train on 937 samples, validate on 105 samples\n",
      "Epoch 1/10\n",
      "937/937 [==============================] - 1s 819us/step - loss: 48593.3969 - mean_absolute_error: 156.2336 - val_loss: 35530.8782 - val_mean_absolute_error: 152.4643\n",
      "Epoch 2/10\n",
      "937/937 [==============================] - 1s 805us/step - loss: 44433.4855 - mean_absolute_error: 152.7704 - val_loss: 32211.2013 - val_mean_absolute_error: 144.1198\n",
      "Epoch 3/10\n",
      "937/937 [==============================] - 1s 749us/step - loss: 41528.1536 - mean_absolute_error: 150.5423 - val_loss: 29973.4507 - val_mean_absolute_error: 139.0290\n",
      "Epoch 4/10\n",
      "937/937 [==============================] - 1s 760us/step - loss: 39542.0976 - mean_absolute_error: 147.2914 - val_loss: 28855.7340 - val_mean_absolute_error: 137.1596\n",
      "Epoch 5/10\n",
      "937/937 [==============================] - 1s 875us/step - loss: 38093.7058 - mean_absolute_error: 145.9474 - val_loss: 27977.1400 - val_mean_absolute_error: 134.9656\n",
      "Epoch 6/10\n",
      "937/937 [==============================] - 1s 618us/step - loss: 36059.0313 - mean_absolute_error: 142.7535 - val_loss: 26330.1261 - val_mean_absolute_error: 129.6364\n",
      "Epoch 7/10\n",
      "937/937 [==============================] - 1s 576us/step - loss: 34967.3102 - mean_absolute_error: 140.1459 - val_loss: 25448.6275 - val_mean_absolute_error: 126.6596\n",
      "Epoch 8/10\n",
      "937/937 [==============================] - 1s 566us/step - loss: 33960.0378 - mean_absolute_error: 138.2821 - val_loss: 25252.8074 - val_mean_absolute_error: 123.4107\n",
      "Epoch 9/10\n",
      "937/937 [==============================] - 1s 576us/step - loss: 33612.2980 - mean_absolute_error: 136.0345 - val_loss: 24087.4805 - val_mean_absolute_error: 120.7053\n",
      "Epoch 10/10\n",
      "937/937 [==============================] - 1s 803us/step - loss: 32755.2911 - mean_absolute_error: 134.7174 - val_loss: 23469.2424 - val_mean_absolute_error: 119.1106\n",
      "125.34825439453124\n"
     ]
    }
   ],
   "source": [
    "model.fit(x=np.expand_dims(X_train, axis=2), y=y_train, batch_size=64, epochs=10, verbose=1, validation_split=0.1, shuffle=True)\n",
    "y_pred = model.predict(np.expand_dims(X_test, axis=2))\n",
    "print (mean_absolute_error(y_test, y_pred))"
   ]
  },
  {
   "cell_type": "code",
   "execution_count": 33,
   "metadata": {
    "scrolled": true
   },
   "outputs": [
    {
     "name": "stdout",
     "output_type": "stream",
     "text": [
      "MEAN 2017\n",
      "284.8888888888889 295.06964\n",
      "Standard deviation 2017\n",
      "176.3227119954548 154.4586\n"
     ]
    },
    {
     "data": {
      "image/png": "[encoded data removed]",
      "text/plain": [
       "<Figure size 432x288 with 1 Axes>"
      ]
     },
     "metadata": {
      "needs_background": "light"
     },
     "output_type": "display_data"
    }
   ],
   "source": [
    "y_year_pred_2017 = model.predict(np.expand_dims(X_year_2017, axis=2))\n",
    "\n",
    "\n",
    "print (\"MEAN 2017\")\n",
    "print (np.mean(y_year_2017),np.mean(y_year_pred_2017))\n",
    "print (\"Standard deviation 2017\")\n",
    "print (np.sqrt(np.var(y_year_2017)),np.sqrt(np.var(y_year_pred_2017)))\n",
    "\n",
    "\n",
    "plot_graphs(y_year_2017,y_year_pred_2017[:,0],\"Year-2017\")"
   ]
  }
 ],
 "metadata": {
  "kernelspec": {
   "display_name": "Python 3",
   "language": "python",
   "name": "python3"
  },
  "language_info": {
   "codemirror_mode": {
    "name": "ipython",
    "version": 3
   },
   "file_extension": ".py",
   "mimetype": "text/x-python",
   "name": "python",
   "nbconvert_exporter": "python",
   "pygments_lexer": "ipython3",
   "version": "3.6.8"
  }
 },
 "nbformat": 4,
 "nbformat_minor": 2
}
